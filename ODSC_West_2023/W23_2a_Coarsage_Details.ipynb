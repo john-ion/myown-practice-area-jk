{
 "cells": [
  {
   "cell_type": "markdown",
   "id": "a51308b3-1e87-4561-8546-a12a3942c035",
   "metadata": {},
   "source": [
    "##  Coarsage for Probabilistic Regression - Some Extra Details\n",
    "## (Conditional Density Estimation)\n"
   ]
  },
  {
   "cell_type": "markdown",
   "id": "081de879-0014-4559-9502-059006a950f6",
   "metadata": {},
   "source": [
    "Here we will go through a couple of additional examples to demonstrate some other parameters of Coarsage and when they are applicable."
   ]
  },
  {
   "cell_type": "markdown",
   "id": "a493d15c-aca7-4c3d-a7e8-6568bee3e0e1",
   "metadata": {},
   "source": [
    "## Imports"
   ]
  },
  {
   "cell_type": "code",
   "execution_count": 1,
   "id": "338cdb4d-ec38-4d41-99ab-230688a71217",
   "metadata": {},
   "outputs": [],
   "source": [
    "import numpy as np\n",
    "import pandas as pd\n",
    "import matplotlib.pyplot as plt\n",
    "%matplotlib inline\n",
    "\n",
    "import structureboost as stb\n",
    "import ml_insights as mli\n",
    "from sklearn.model_selection import train_test_split\n",
    "\n"
   ]
  },
  {
   "cell_type": "markdown",
   "id": "458dde4b-a68b-4e2d-9ec0-44770da2a6dc",
   "metadata": {},
   "source": [
    "## Baseball Runs Scored\n",
    "Here we load in a data set of MLB games.  Each row gives some statistics of the hitting team, the opposing pitchers, and the number of runs that were scored.  We will demonstrate how to predict the distribution of the number of runs scored."
   ]
  },
  {
   "cell_type": "code",
   "execution_count": null,
   "id": "101232c1-1146-4d44-a378-8be0308e85c6",
   "metadata": {},
   "outputs": [],
   "source": []
  },
  {
   "cell_type": "code",
   "execution_count": 2,
   "id": "83e289d9-7132-408a-b391-1ca960230724",
   "metadata": {},
   "outputs": [],
   "source": [
    "df_runs = pd.read_csv('../ODSC_East_2023/bball_runs_sm.csv')"
   ]
  },
  {
   "cell_type": "code",
   "execution_count": 3,
   "id": "fcd3ecdf-a928-4970-9b08-8727113fc092",
   "metadata": {},
   "outputs": [
    {
     "name": "stdout",
     "output_type": "stream",
     "text": [
      "(24284, 13)\n"
     ]
    }
   ],
   "source": [
    "print(df_runs.shape)"
   ]
  },
  {
   "cell_type": "code",
   "execution_count": 4,
   "id": "c38a0c77-8fc4-44ec-aa8b-4bb78a104224",
   "metadata": {},
   "outputs": [
    {
     "name": "stdout",
     "output_type": "stream",
     "text": [
      "<class 'pandas.core.frame.DataFrame'>\n",
      "RangeIndex: 24284 entries, 0 to 24283\n",
      "Data columns (total 13 columns):\n",
      " #   Column           Non-Null Count  Dtype  \n",
      "---  ------           --------------  -----  \n",
      " 0   index            24284 non-null  int64  \n",
      " 1   date_dblhead     24284 non-null  int64  \n",
      " 2   team_h           24284 non-null  object \n",
      " 3   team_v           24284 non-null  object \n",
      " 4   home_hitting     24284 non-null  int64  \n",
      " 5   runs             24284 non-null  int64  \n",
      " 6   OBP_162          24284 non-null  float64\n",
      " 7   SLG_162          24284 non-null  float64\n",
      " 8   Strt_WHIP_35     24284 non-null  float64\n",
      " 9   Strt_SO_perc_10  24284 non-null  float64\n",
      " 10  Bpen_WHIP_75     24284 non-null  float64\n",
      " 11  Bpen_SO_perc_75  24284 non-null  float64\n",
      " 12  Bpen_WHIP_35     24284 non-null  float64\n",
      "dtypes: float64(7), int64(4), object(2)\n",
      "memory usage: 2.4+ MB\n"
     ]
    }
   ],
   "source": [
    "df_runs.info()"
   ]
  },
  {
   "cell_type": "code",
   "execution_count": 5,
   "id": "f388564c-8a45-44e9-a08a-56b3f5369631",
   "metadata": {},
   "outputs": [
    {
     "data": {
      "text/html": [
       "<div>\n",
       "<style scoped>\n",
       "    .dataframe tbody tr th:only-of-type {\n",
       "        vertical-align: middle;\n",
       "    }\n",
       "\n",
       "    .dataframe tbody tr th {\n",
       "        vertical-align: top;\n",
       "    }\n",
       "\n",
       "    .dataframe thead th {\n",
       "        text-align: right;\n",
       "    }\n",
       "</style>\n",
       "<table border=\"1\" class=\"dataframe\">\n",
       "  <thead>\n",
       "    <tr style=\"text-align: right;\">\n",
       "      <th></th>\n",
       "      <th>index</th>\n",
       "      <th>date_dblhead</th>\n",
       "      <th>team_h</th>\n",
       "      <th>team_v</th>\n",
       "      <th>home_hitting</th>\n",
       "      <th>runs</th>\n",
       "      <th>OBP_162</th>\n",
       "      <th>SLG_162</th>\n",
       "      <th>Strt_WHIP_35</th>\n",
       "      <th>Strt_SO_perc_10</th>\n",
       "      <th>Bpen_WHIP_75</th>\n",
       "      <th>Bpen_SO_perc_75</th>\n",
       "      <th>Bpen_WHIP_35</th>\n",
       "    </tr>\n",
       "  </thead>\n",
       "  <tbody>\n",
       "    <tr>\n",
       "      <th>2894</th>\n",
       "      <td>2894</td>\n",
       "      <td>201605090</td>\n",
       "      <td>BOS</td>\n",
       "      <td>OAK</td>\n",
       "      <td>1</td>\n",
       "      <td>14</td>\n",
       "      <td>0.327880</td>\n",
       "      <td>0.430111</td>\n",
       "      <td>1.171053</td>\n",
       "      <td>0.195219</td>\n",
       "      <td>1.256228</td>\n",
       "      <td>0.204282</td>\n",
       "      <td>1.079019</td>\n",
       "    </tr>\n",
       "    <tr>\n",
       "      <th>13085</th>\n",
       "      <td>13085</td>\n",
       "      <td>201506150</td>\n",
       "      <td>ANA</td>\n",
       "      <td>ARI</td>\n",
       "      <td>0</td>\n",
       "      <td>7</td>\n",
       "      <td>0.304823</td>\n",
       "      <td>0.373391</td>\n",
       "      <td>1.246575</td>\n",
       "      <td>0.115942</td>\n",
       "      <td>1.263393</td>\n",
       "      <td>0.230519</td>\n",
       "      <td>1.217712</td>\n",
       "    </tr>\n",
       "    <tr>\n",
       "      <th>15829</th>\n",
       "      <td>15829</td>\n",
       "      <td>201607050</td>\n",
       "      <td>WAS</td>\n",
       "      <td>MIL</td>\n",
       "      <td>0</td>\n",
       "      <td>5</td>\n",
       "      <td>0.318220</td>\n",
       "      <td>0.394835</td>\n",
       "      <td>1.387755</td>\n",
       "      <td>0.272727</td>\n",
       "      <td>1.143307</td>\n",
       "      <td>0.272727</td>\n",
       "      <td>1.261589</td>\n",
       "    </tr>\n",
       "    <tr>\n",
       "      <th>3662</th>\n",
       "      <td>3662</td>\n",
       "      <td>201607040</td>\n",
       "      <td>MIN</td>\n",
       "      <td>OAK</td>\n",
       "      <td>1</td>\n",
       "      <td>1</td>\n",
       "      <td>0.306786</td>\n",
       "      <td>0.406504</td>\n",
       "      <td>1.450607</td>\n",
       "      <td>0.128205</td>\n",
       "      <td>1.349045</td>\n",
       "      <td>0.230129</td>\n",
       "      <td>1.385224</td>\n",
       "    </tr>\n",
       "    <tr>\n",
       "      <th>16642</th>\n",
       "      <td>16642</td>\n",
       "      <td>201609070</td>\n",
       "      <td>NYA</td>\n",
       "      <td>TOR</td>\n",
       "      <td>0</td>\n",
       "      <td>0</td>\n",
       "      <td>0.329603</td>\n",
       "      <td>0.443924</td>\n",
       "      <td>1.547619</td>\n",
       "      <td>0.175000</td>\n",
       "      <td>1.185286</td>\n",
       "      <td>0.276382</td>\n",
       "      <td>1.313559</td>\n",
       "    </tr>\n",
       "  </tbody>\n",
       "</table>\n",
       "</div>"
      ],
      "text/plain": [
       "       index  date_dblhead team_h team_v  home_hitting  runs   OBP_162  \\\n",
       "2894    2894     201605090    BOS    OAK             1    14  0.327880   \n",
       "13085  13085     201506150    ANA    ARI             0     7  0.304823   \n",
       "15829  15829     201607050    WAS    MIL             0     5  0.318220   \n",
       "3662    3662     201607040    MIN    OAK             1     1  0.306786   \n",
       "16642  16642     201609070    NYA    TOR             0     0  0.329603   \n",
       "\n",
       "        SLG_162  Strt_WHIP_35  Strt_SO_perc_10  Bpen_WHIP_75  Bpen_SO_perc_75  \\\n",
       "2894   0.430111      1.171053         0.195219      1.256228         0.204282   \n",
       "13085  0.373391      1.246575         0.115942      1.263393         0.230519   \n",
       "15829  0.394835      1.387755         0.272727      1.143307         0.272727   \n",
       "3662   0.406504      1.450607         0.128205      1.349045         0.230129   \n",
       "16642  0.443924      1.547619         0.175000      1.185286         0.276382   \n",
       "\n",
       "       Bpen_WHIP_35  \n",
       "2894       1.079019  \n",
       "13085      1.217712  \n",
       "15829      1.261589  \n",
       "3662       1.385224  \n",
       "16642      1.313559  "
      ]
     },
     "execution_count": 5,
     "metadata": {},
     "output_type": "execute_result"
    }
   ],
   "source": [
    "df_runs.sample(5, random_state=0)"
   ]
  },
  {
   "cell_type": "code",
   "execution_count": 6,
   "id": "92c98bb3-5be5-4866-a035-e4214092af68",
   "metadata": {},
   "outputs": [],
   "source": [
    "df_runs['runs_trunc'] = np.minimum(df_runs['runs'],16)\n",
    "df_runs['season']=df_runs.date_dblhead.apply(lambda x: int(str(x)[:4]))"
   ]
  },
  {
   "cell_type": "code",
   "execution_count": 7,
   "id": "99ad36ca-a035-4f00-a9f2-c06d99598c4f",
   "metadata": {},
   "outputs": [
    {
     "data": {
      "text/plain": [
       "2017    4860\n",
       "2015    4858\n",
       "2019    4858\n",
       "2016    4854\n",
       "2018    4854\n",
       "Name: season, dtype: int64"
      ]
     },
     "execution_count": 7,
     "metadata": {},
     "output_type": "execute_result"
    }
   ],
   "source": [
    "df_runs.season.value_counts()"
   ]
  },
  {
   "cell_type": "code",
   "execution_count": 8,
   "id": "a48186ca-9ee8-4486-ae51-67c0c2d3e58a",
   "metadata": {},
   "outputs": [],
   "source": [
    "df_train = df_runs[df_runs.season<=2017]\n",
    "df_valid = df_runs[df_runs.season==2018]\n",
    "df_test = df_runs[df_runs.season>=2019]"
   ]
  },
  {
   "cell_type": "markdown",
   "id": "39975a09-da3c-4ee7-99ba-0acc9de31ba5",
   "metadata": {},
   "source": [
    "## Begin Modeling"
   ]
  },
  {
   "cell_type": "code",
   "execution_count": null,
   "id": "dbffe074-a6dc-4c77-814a-8004e182141a",
   "metadata": {},
   "outputs": [],
   "source": []
  },
  {
   "cell_type": "code",
   "execution_count": 9,
   "id": "b125d6a8-28fc-45bd-b3cd-35214aa5259a",
   "metadata": {},
   "outputs": [],
   "source": [
    "feat_set = ['OBP_162',\n",
    " 'SLG_162',\n",
    " 'Strt_WHIP_35',\n",
    " 'Strt_SO_perc_10',\n",
    " 'Bpen_WHIP_75',\n",
    " 'Bpen_SO_perc_75',\n",
    " 'Bpen_WHIP_35']\n",
    "target = 'runs'"
   ]
  },
  {
   "cell_type": "code",
   "execution_count": null,
   "id": "418e4b6f-d125-4061-b477-03f29e4cc602",
   "metadata": {},
   "outputs": [],
   "source": []
  },
  {
   "cell_type": "code",
   "execution_count": 10,
   "id": "0aa760e9-9189-40cd-a46a-92cbaa9dd03c",
   "metadata": {
    "scrolled": true,
    "tags": []
   },
   "outputs": [],
   "source": [
    "# def try_features_runs(feat_set, max_depth=2):\n",
    "target = 'runs_trunc'\n",
    "X_train = df_train.loc[:,feat_set]\n",
    "X_valid = df_valid.loc[:,feat_set]\n",
    "X_test = df_test.loc[:,feat_set]\n",
    "\n",
    "y_train = df_train[target].to_numpy()\n",
    "y_valid = df_valid[target].to_numpy()\n",
    "y_test = df_test[target].to_numpy()"
   ]
  },
  {
   "cell_type": "markdown",
   "id": "0d92073f-6078-4d88-b8f8-2b96fc055d47",
   "metadata": {
    "tags": []
   },
   "source": [
    "For this problem, we know the \"bins\" we want.  So we can choose `binpt_method='fixed'` and specify the bins we want.\n",
    "\n",
    "When dealing with integer valued target variables, it is useful to have bins of width 1, so that the density = the probability.  It is also nice for plotting to have the bins centered at the integer values"
   ]
  },
  {
   "cell_type": "code",
   "execution_count": 11,
   "id": "3b2ef3e2-1310-4880-9486-0a4d4c030503",
   "metadata": {
    "tags": []
   },
   "outputs": [
    {
     "data": {
      "text/plain": [
       "array([-0.5,  0.5,  1.5,  2.5,  3.5,  4.5,  5.5,  6.5,  7.5,  8.5,  9.5,\n",
       "       10.5, 11.5, 12.5, 13.5, 14.5, 15.5, 16.5])"
      ]
     },
     "execution_count": 11,
     "metadata": {},
     "output_type": "execute_result"
    }
   ],
   "source": [
    "bpv2 = np.linspace(-.5,16.5,18)\n",
    "bpv2"
   ]
  },
  {
   "cell_type": "markdown",
   "id": "a595b809-c825-4fc9-8de8-eaf7b2db2ec9",
   "metadata": {
    "tags": []
   },
   "source": [
    "This gives us 17 bins, representing 0, 1, 2, ..., 16+ runs scored for that team"
   ]
  },
  {
   "cell_type": "code",
   "execution_count": 12,
   "id": "c45b5e4c-616f-4609-88a6-173755811a76",
   "metadata": {
    "scrolled": true,
    "tags": []
   },
   "outputs": [
    {
     "name": "stdout",
     "output_type": "stream",
     "text": [
      "i=0, eval_set_loss = 2.4490039762731746\n",
      "i=10, eval_set_loss = 2.4460860309080217\n",
      "i=20, eval_set_loss = 2.4440853299212058\n",
      "i=30, eval_set_loss = 2.442670232454906\n",
      "i=40, eval_set_loss = 2.4418725287148204\n",
      "i=50, eval_set_loss = 2.4413933993949186\n",
      "i=60, eval_set_loss = 2.441214795909196\n",
      "i=70, eval_set_loss = 2.441191298772179\n",
      "i=80, eval_set_loss = 2.4410389089363798\n",
      "i=90, eval_set_loss = 2.4412117793657444\n",
      "i=100, eval_set_loss = 2.4413443074742553\n",
      "i=110, eval_set_loss = 2.441593095283467\n",
      "i=120, eval_set_loss = 2.441637711475862\n",
      "i=130, eval_set_loss = 2.441804525258549\n",
      "Stopping early: low pt was 5 steps ago\n"
     ]
    }
   ],
   "source": [
    "cr1 = stb.Coarsage(num_trees = 1000, learning_rate=.02, max_depth=4,\n",
    "                  binpt_method = 'fixed', \n",
    "               binpt_vec=bpv2)\n",
    "cr1.fit(X_train, y_train, eval_set=(X_valid, y_valid), early_stop_past_steps=5, eval_freq=10)"
   ]
  },
  {
   "cell_type": "code",
   "execution_count": 13,
   "id": "3de8ceac-f8b6-4fb9-9c2b-7dd199cee83c",
   "metadata": {},
   "outputs": [],
   "source": [
    "preds_test = cr1.predict_distributions(X_test)"
   ]
  },
  {
   "cell_type": "code",
   "execution_count": 14,
   "id": "907764e8-5f4b-4349-a1e8-0c0c2c808fa3",
   "metadata": {},
   "outputs": [
    {
     "data": {
      "text/plain": [
       "2.500001618472086"
      ]
     },
     "execution_count": 14,
     "metadata": {},
     "output_type": "execute_result"
    }
   ],
   "source": [
    "preds_test.log_loss(y_test)"
   ]
  },
  {
   "cell_type": "code",
   "execution_count": 15,
   "id": "0667309d-2c20-4f46-bbd4-b45b3cb85ded",
   "metadata": {},
   "outputs": [
    {
     "data": {
      "image/png": "[encoded data removed]",
      "text/plain": [
       "<Figure size 1080x1080 with 6 Axes>"
      ]
     },
     "metadata": {
      "needs_background": "light"
     },
     "output_type": "display_data"
    }
   ],
   "source": [
    "plt.figure(figsize=(15,15))\n",
    "for i in range(1,7):\n",
    "    plt.subplot(3,2,i)\n",
    "    preds_test[i].plot_density()\n",
    "    plt.ylim([0,.25])\n",
    "    plt.vlines(x=y_test[i], ymin=0,ymax=.2, color='k', linestyle='--')"
   ]
  },
  {
   "cell_type": "markdown",
   "id": "357a47dd-0db4-4453-beef-78915d5583a7",
   "metadata": {},
   "source": [
    "When using `binpt_method = 'fixed'` it will always use the exact subdivision it is given.  For a small number of bins, this generally makes sense.  However, if you had a larger number of bins (say 200), you might want to subdivide within the set of given binpts.  To do this, you must choose `binpt_method = 'fixed-rss'` and specify `num_coarse_bins`."
   ]
  },
  {
   "cell_type": "code",
   "execution_count": 16,
   "id": "bdc7560b-7422-4d90-9677-8fd9a3c8d2b7",
   "metadata": {
    "scrolled": true,
    "tags": []
   },
   "outputs": [
    {
     "name": "stdout",
     "output_type": "stream",
     "text": [
      "i=0, eval_set_loss = 2.4616511642661565\n",
      "i=10, eval_set_loss = 2.4562418664052927\n",
      "i=20, eval_set_loss = 2.452192037716152\n",
      "i=30, eval_set_loss = 2.450157322678713\n",
      "i=40, eval_set_loss = 2.448288751031579\n",
      "i=50, eval_set_loss = 2.4467498594991004\n",
      "i=60, eval_set_loss = 2.4456621781180172\n",
      "i=70, eval_set_loss = 2.445006822627025\n",
      "i=80, eval_set_loss = 2.44427041514037\n",
      "i=90, eval_set_loss = 2.4440926263407983\n",
      "i=100, eval_set_loss = 2.443895247505179\n",
      "i=110, eval_set_loss = 2.443948640819793\n",
      "i=120, eval_set_loss = 2.4439269216167374\n",
      "i=130, eval_set_loss = 2.4436984624079083\n",
      "i=140, eval_set_loss = 2.443629995791863\n",
      "i=150, eval_set_loss = 2.4436889497149203\n",
      "i=160, eval_set_loss = 2.4440078246858734\n",
      "i=170, eval_set_loss = 2.4441378240735907\n",
      "i=180, eval_set_loss = 2.444399005850455\n",
      "i=190, eval_set_loss = 2.444656405982022\n",
      "Stopping early: low pt was 5 steps ago\n"
     ]
    }
   ],
   "source": [
    "cr2 = stb.Coarsage(num_trees = 1000, learning_rate=.02, max_depth=4,\n",
    "                  binpt_method = 'fixed-rss', num_coarse_bins=10,\n",
    "               binpt_vec=bpv2)\n",
    "cr2.fit(X_train, y_train, eval_set=(X_valid, y_valid), early_stop_past_steps=5, eval_freq=10)"
   ]
  },
  {
   "cell_type": "code",
   "execution_count": 17,
   "id": "9332b26d-e0a8-4565-a867-c3e5045fa069",
   "metadata": {},
   "outputs": [],
   "source": [
    "preds_test = cr2.predict_distributions(X_test)"
   ]
  },
  {
   "cell_type": "code",
   "execution_count": 18,
   "id": "a4c2c936-199f-4189-b176-eca1061eb4b9",
   "metadata": {},
   "outputs": [
    {
     "data": {
      "text/plain": [
       "2.503542828230053"
      ]
     },
     "execution_count": 18,
     "metadata": {},
     "output_type": "execute_result"
    }
   ],
   "source": [
    "preds_test.log_loss(y_test)"
   ]
  },
  {
   "cell_type": "markdown",
   "id": "d5c6604b-9199-4063-8652-cf85b91e4788",
   "metadata": {},
   "source": [
    "It is *not* recommended to use `binpt_method='auto'` (the default) when you have integer-valued data (for a variety of reasons).  In some situations it may actually give better log-loss values, but it is effectively \"cheating\" (you can make log-loss as small as you want by making narrower intervals around the integer values)"
   ]
  },
  {
   "cell_type": "markdown",
   "id": "74779601-94d9-400e-8f1f-423543d9ea0f",
   "metadata": {
    "tags": []
   },
   "source": [
    "Let's look at some of the other parameters in Coarsage:"
   ]
  },
  {
   "cell_type": "code",
   "execution_count": 19,
   "id": "da44e9ef-0ba7-4c4e-bf5c-a696416feabb",
   "metadata": {},
   "outputs": [
    {
     "data": {
      "text/plain": [
       "\u001b[0;31mInit signature:\u001b[0m\n",
       "\u001b[0mstb\u001b[0m\u001b[0;34m.\u001b[0m\u001b[0mCoarsage\u001b[0m\u001b[0;34m(\u001b[0m\u001b[0;34m\u001b[0m\n",
       "\u001b[0;34m\u001b[0m    \u001b[0mnum_trees\u001b[0m\u001b[0;34m,\u001b[0m\u001b[0;34m\u001b[0m\n",
       "\u001b[0;34m\u001b[0m    \u001b[0mmax_depth\u001b[0m\u001b[0;34m,\u001b[0m\u001b[0;34m\u001b[0m\n",
       "\u001b[0;34m\u001b[0m    \u001b[0mfeature_configs\u001b[0m\u001b[0;34m=\u001b[0m\u001b[0;32mNone\u001b[0m\u001b[0;34m,\u001b[0m\u001b[0;34m\u001b[0m\n",
       "\u001b[0;34m\u001b[0m    \u001b[0mbinpt_method\u001b[0m\u001b[0;34m=\u001b[0m\u001b[0;34m'auto'\u001b[0m\u001b[0;34m,\u001b[0m\u001b[0;34m\u001b[0m\n",
       "\u001b[0;34m\u001b[0m    \u001b[0mbinpt_vec\u001b[0m\u001b[0;34m=\u001b[0m\u001b[0;32mNone\u001b[0m\u001b[0;34m,\u001b[0m\u001b[0;34m\u001b[0m\n",
       "\u001b[0;34m\u001b[0m    \u001b[0mnum_coarse_bins\u001b[0m\u001b[0;34m=\u001b[0m\u001b[0;36m40\u001b[0m\u001b[0;34m,\u001b[0m\u001b[0;34m\u001b[0m\n",
       "\u001b[0;34m\u001b[0m    \u001b[0mstructured_loss\u001b[0m\u001b[0;34m=\u001b[0m\u001b[0;32mTrue\u001b[0m\u001b[0;34m,\u001b[0m\u001b[0;34m\u001b[0m\n",
       "\u001b[0;34m\u001b[0m    \u001b[0mstructure_block_size\u001b[0m\u001b[0;34m=\u001b[0m\u001b[0;32mNone\u001b[0m\u001b[0;34m,\u001b[0m\u001b[0;34m\u001b[0m\n",
       "\u001b[0;34m\u001b[0m    \u001b[0msingleton_weight\u001b[0m\u001b[0;34m=\u001b[0m\u001b[0;36m0.4\u001b[0m\u001b[0;34m,\u001b[0m\u001b[0;34m\u001b[0m\n",
       "\u001b[0;34m\u001b[0m    \u001b[0mmax_resolution\u001b[0m\u001b[0;34m=\u001b[0m\u001b[0;36m3000\u001b[0m\u001b[0;34m,\u001b[0m\u001b[0;34m\u001b[0m\n",
       "\u001b[0;34m\u001b[0m    \u001b[0mbin_interp\u001b[0m\u001b[0;34m=\u001b[0m\u001b[0;34m'runif'\u001b[0m\u001b[0;34m,\u001b[0m\u001b[0;34m\u001b[0m\n",
       "\u001b[0;34m\u001b[0m    \u001b[0mrange_extension\u001b[0m\u001b[0;34m=\u001b[0m\u001b[0;34m'quantile_frac'\u001b[0m\u001b[0;34m,\u001b[0m\u001b[0;34m\u001b[0m\n",
       "\u001b[0;34m\u001b[0m    \u001b[0mrange_ext_param\u001b[0m\u001b[0;34m=\u001b[0m\u001b[0;34m(\u001b[0m\u001b[0;36m0.25\u001b[0m\u001b[0;34m,\u001b[0m \u001b[0;36m0.75\u001b[0m\u001b[0;34m,\u001b[0m \u001b[0;36m0.25\u001b[0m\u001b[0;34m)\u001b[0m\u001b[0;34m,\u001b[0m\u001b[0;34m\u001b[0m\n",
       "\u001b[0;34m\u001b[0m    \u001b[0mlearning_rate\u001b[0m\u001b[0;34m=\u001b[0m\u001b[0;36m0.02\u001b[0m\u001b[0;34m,\u001b[0m\u001b[0;34m\u001b[0m\n",
       "\u001b[0;34m\u001b[0m    \u001b[0mbinpt_growth_wait\u001b[0m\u001b[0;34m=\u001b[0m\u001b[0;36m0\u001b[0m\u001b[0;34m,\u001b[0m\u001b[0;34m\u001b[0m\n",
       "\u001b[0;34m\u001b[0m    \u001b[0minitial_growth_steps\u001b[0m\u001b[0;34m=\u001b[0m\u001b[0;36m2\u001b[0m\u001b[0;34m,\u001b[0m\u001b[0;34m\u001b[0m\n",
       "\u001b[0;34m\u001b[0m    \u001b[0mreplace\u001b[0m\u001b[0;34m=\u001b[0m\u001b[0;32mTrue\u001b[0m\u001b[0;34m,\u001b[0m\u001b[0;34m\u001b[0m\n",
       "\u001b[0;34m\u001b[0m    \u001b[0mmin_size_split\u001b[0m\u001b[0;34m=\u001b[0m\u001b[0;36m25\u001b[0m\u001b[0;34m,\u001b[0m\u001b[0;34m\u001b[0m\n",
       "\u001b[0;34m\u001b[0m    \u001b[0msubsample\u001b[0m\u001b[0;34m=\u001b[0m\u001b[0;36m1\u001b[0m\u001b[0;34m,\u001b[0m\u001b[0;34m\u001b[0m\n",
       "\u001b[0;34m\u001b[0m    \u001b[0mgamma\u001b[0m\u001b[0;34m=\u001b[0m\u001b[0;36m0\u001b[0m\u001b[0;34m,\u001b[0m\u001b[0;34m\u001b[0m\n",
       "\u001b[0;34m\u001b[0m    \u001b[0mreg_lambda\u001b[0m\u001b[0;34m=\u001b[0m\u001b[0;36m1\u001b[0m\u001b[0;34m,\u001b[0m\u001b[0;34m\u001b[0m\n",
       "\u001b[0;34m\u001b[0m    \u001b[0mfeat_sample_by_tree\u001b[0m\u001b[0;34m=\u001b[0m\u001b[0;36m1\u001b[0m\u001b[0;34m,\u001b[0m\u001b[0;34m\u001b[0m\n",
       "\u001b[0;34m\u001b[0m    \u001b[0mfeat_sample_by_node\u001b[0m\u001b[0;34m=\u001b[0m\u001b[0;36m1\u001b[0m\u001b[0;34m,\u001b[0m\u001b[0;34m\u001b[0m\n",
       "\u001b[0;34m\u001b[0m    \u001b[0mrandom_seed\u001b[0m\u001b[0;34m=\u001b[0m\u001b[0;36m0\u001b[0m\u001b[0;34m,\u001b[0m\u001b[0;34m\u001b[0m\n",
       "\u001b[0;34m\u001b[0m    \u001b[0minitial_model\u001b[0m\u001b[0;34m=\u001b[0m\u001b[0;32mNone\u001b[0m\u001b[0;34m,\u001b[0m\u001b[0;34m\u001b[0m\n",
       "\u001b[0;34m\u001b[0m    \u001b[0mna_unseen_action\u001b[0m\u001b[0;34m=\u001b[0m\u001b[0;34m'weighted_random'\u001b[0m\u001b[0;34m,\u001b[0m\u001b[0;34m\u001b[0m\n",
       "\u001b[0;34m\u001b[0m    \u001b[0mprec_digits\u001b[0m\u001b[0;34m=\u001b[0m\u001b[0;36m6\u001b[0m\u001b[0;34m,\u001b[0m\u001b[0;34m\u001b[0m\n",
       "\u001b[0;34m\u001b[0m    \u001b[0mdefault_configs\u001b[0m\u001b[0;34m=\u001b[0m\u001b[0;32mNone\u001b[0m\u001b[0;34m,\u001b[0m\u001b[0;34m\u001b[0m\n",
       "\u001b[0;34m\u001b[0m\u001b[0;34m)\u001b[0m\u001b[0;34m\u001b[0m\u001b[0;34m\u001b[0m\u001b[0m\n",
       "\u001b[0;31mDocstring:\u001b[0m     \n",
       "Coarse Adjustment Boosting for Nonparametric Probabilistic Regression.\n",
       "\n",
       "This method is to be used with a numerical target when you wish to have a\n",
       "full predicted probability density conditional on the features.\n",
       "\n",
       "Parameters\n",
       "----------\n",
       "\n",
       "num_trees : integer\n",
       "    The number of trees to use in each forest. If used in\n",
       "    conjunction with early stopping, this will be the maximum number\n",
       "    of trees considered.\n",
       "\n",
       "feature_configs : dict\n",
       "    A dictionary that contains the specifications for each feature in\n",
       "    the models (as in a standard StructureBoost model).  StructureBoost\n",
       "    allows an unusual amount of flexibility\n",
       "    which necessitates a more complicated configuration. See\n",
       "    https://structureboost.readthedocs.io/en/latest/feat_config.html\n",
       "    for details.\n",
       "\n",
       "binpt_method : str, default is 'auto'\n",
       "    How to choose the intervals (bin endpoints) for the coarse learners.\n",
       "    Default is 'auto', which means a random set of quantiles (of size\n",
       "    binpt_sample_size) is chosen from the training data, and the interval \n",
       "    endpoints are chosen between those values (using the method indicated\n",
       "    by `bin_interp`).  Other options are `fixed` (a given set of intervals\n",
       "    is used for each forest) or `fixed-rss` (a random sample of a fixed\n",
       "    set of endpoints is used)\n",
       "\n",
       "binpt_vec : list-like, default is None\n",
       "    The set of binpts to use for the 'fixed' or 'fixed-rss' methods\n",
       "    of bin point selection.  Ignored if `binpt_method` is 'auto'.\n",
       "\n",
       "num_coarse_bins: int, default is 40\n",
       "    The number of points to use in creating intervals for the coarse\n",
       "    learners.  Ignored if the `binpt_method` is 'fixed'.\n",
       "\n",
       "structured_loss : bool, Default is True\n",
       "    Whether or not to use a structured entropy loss function. The\n",
       "    structured entropy loss helps regularize by recognizing that the\n",
       "    numerical target has an ordinal structure.  It is configured with\n",
       "    two parameters, the 'singleton_weight' and the 'structure_block_size'.\n",
       "\n",
       "singleton_weight : float, default is 0.5\n",
       "    When using structured entropy loss, how much to weight the singleton \n",
       "    partition.  Numbers closer to 1 give less \"partial credit\" for being close.\n",
       "    Setting this equal to 1 reverts to the standard cross-entropy loss. This\n",
       "    parameter is ignored if `structured_loss` is False. Default is 0.5.\n",
       "\n",
       "structure_block_size : int, default is None\n",
       "    When using structured entropy loss, this determines how far away the\n",
       "    \"partial credit\" kicks in (similar to a kernel width).  Smaller values\n",
       "    will behave closer to the standard cross-entropy and larger values\n",
       "    will begin to give \"partial credit\" further away.  The min value is 2\n",
       "    and the maximum value is the number of bins-1.  Default is None, which\n",
       "    means the algorithm will choose a value automatically. Currently this\n",
       "    is done by taking the (rounded) square root of the number of bins.\n",
       "\n",
       "bin_interp : str, Default is 'runif'\n",
       "    How to create the bin points from the randomly chosen target values\n",
       "    when `binpt_method` is 'auto'.  Default is 'runif' which means we\n",
       "    draw uniformly in the space between neighboring values.  Option 'midpt'\n",
       "    means you simply choose the midpoint between the two neighboring values.\n",
       "\n",
       "range_extension : str, default is 'quantile_frac'\n",
       "    How (and if) to extend the range of support beyond the values seen in the \n",
       "    training data.  Considered only if `binpt_method` is 'auto'.  Default\n",
       "    is `quantile_frac` which means we find the size of the quantile range \n",
       "    determined by the first two values in `range_ext_param`, multiply that\n",
       "    value by the third given number, and add a bin of that size to either end.\n",
       "\n",
       "range_ext_param : tuple/list of float, default is (.25,.75,.25)\n",
       "    Three values used to determine how large the additional bins should\n",
       "    be on each side.  Default is .25, .75, .25 which means that the IQR\n",
       "    (inter-quartile range) of the training data is computed, and its\n",
       "    width is multiplied by .25.\n",
       "\n",
       "max_depth : int, default is 3\n",
       "    The maximum depth to use when building trees for the coarse classifier.        Smaller values are more likely to underfit and \n",
       "    larger values more likely to overfit.\n",
       "\n",
       "learning_rate : float, default is .05\n",
       "    The \"step size\" to take when adding each new tree to the model.\n",
       "    We recommend using a relatively low learning rate combined with\n",
       "    early stopping.\n",
       "\n",
       "binpt_growth_wait : int, default is 4\n",
       "    How many iterations to wait between \"growth\" steps (where you sample\n",
       "    potentially new bin pts).  A setting of 0 means you sample new points\n",
       "    every step.  Default is 4 which means it grows every fifth step. The\n",
       "    purpose is to avoid growing the resolution too quickly, which can slow\n",
       "    down the training.\n",
       "\n",
       "initial_growth_steps : int, default is 2\n",
       "    The number of growth steps to take initially (regardless of the setting\n",
       "    of bin_growth_wait). The default is 2.  It is recommended to keep this\n",
       "    parameter at least 2.\n",
       "\n",
       "Other params are as in the main StructureBoost object and apply to the\n",
       "coarse learners.\n",
       "\n",
       "\n",
       "References\n",
       "----------\n",
       "\n",
       "Lucena, B. To appear\n",
       "\u001b[0;31mFile:\u001b[0m           ~/Desktop/Work/Git/numeristical/structureboost/coarsage.cpython-39-darwin.so\n",
       "\u001b[0;31mType:\u001b[0m           type\n",
       "\u001b[0;31mSubclasses:\u001b[0m     \n"
      ]
     },
     "metadata": {},
     "output_type": "display_data"
    }
   ],
   "source": [
    "stb.Coarsage?"
   ]
  },
  {
   "cell_type": "code",
   "execution_count": null,
   "id": "3bbda4d9-afec-4337-940b-ac004b0c70d8",
   "metadata": {},
   "outputs": [],
   "source": []
  },
  {
   "cell_type": "markdown",
   "id": "33ed9074-1931-4952-bb50-43c89e50e588",
   "metadata": {},
   "source": [
    "Next, let's revisit the Ames housing data"
   ]
  },
  {
   "cell_type": "code",
   "execution_count": 20,
   "id": "4c7bb8cb-dfe8-48dd-9590-837348f2d967",
   "metadata": {
    "scrolled": true,
    "tags": []
   },
   "outputs": [
    {
     "name": "stdout",
     "output_type": "stream",
     "text": [
      "<class 'pandas.core.frame.DataFrame'>\n",
      "Int64Index: 2925 entries, 0 to 2929\n",
      "Data columns (total 82 columns):\n",
      " #   Column           Non-Null Count  Dtype  \n",
      "---  ------           --------------  -----  \n",
      " 0   Order            2925 non-null   int64  \n",
      " 1   PID              2925 non-null   int64  \n",
      " 2   MS SubClass      2925 non-null   int64  \n",
      " 3   MS Zoning        2925 non-null   object \n",
      " 4   Lot Frontage     2435 non-null   float64\n",
      " 5   Lot Area         2925 non-null   int64  \n",
      " 6   Street           2925 non-null   object \n",
      " 7   Alley            198 non-null    object \n",
      " 8   Lot Shape        2925 non-null   object \n",
      " 9   Land Contour     2925 non-null   object \n",
      " 10  Utilities        2925 non-null   object \n",
      " 11  Lot Config       2925 non-null   object \n",
      " 12  Land Slope       2925 non-null   object \n",
      " 13  Neighborhood     2925 non-null   object \n",
      " 14  Condition 1      2925 non-null   object \n",
      " 15  Condition 2      2925 non-null   object \n",
      " 16  Bldg Type        2925 non-null   object \n",
      " 17  House Style      2925 non-null   object \n",
      " 18  Overall Qual     2925 non-null   int64  \n",
      " 19  Overall Cond     2925 non-null   int64  \n",
      " 20  Year Built       2925 non-null   int64  \n",
      " 21  Year Remod/Add   2925 non-null   int64  \n",
      " 22  Roof Style       2925 non-null   object \n",
      " 23  Roof Matl        2925 non-null   object \n",
      " 24  Exterior 1st     2925 non-null   object \n",
      " 25  Exterior 2nd     2925 non-null   object \n",
      " 26  Mas Vnr Type     2902 non-null   object \n",
      " 27  Mas Vnr Area     2902 non-null   float64\n",
      " 28  Exter Qual       2925 non-null   object \n",
      " 29  Exter Cond       2925 non-null   object \n",
      " 30  Foundation       2925 non-null   object \n",
      " 31  Bsmt Qual        2845 non-null   object \n",
      " 32  Bsmt Cond        2845 non-null   object \n",
      " 33  Bsmt Exposure    2842 non-null   object \n",
      " 34  BsmtFin Type 1   2845 non-null   object \n",
      " 35  BsmtFin SF 1     2924 non-null   float64\n",
      " 36  BsmtFin Type 2   2844 non-null   object \n",
      " 37  BsmtFin SF 2     2924 non-null   float64\n",
      " 38  Bsmt Unf SF      2924 non-null   float64\n",
      " 39  Total Bsmt SF    2924 non-null   float64\n",
      " 40  Heating          2925 non-null   object \n",
      " 41  Heating QC       2925 non-null   object \n",
      " 42  Central Air      2925 non-null   object \n",
      " 43  Electrical       2924 non-null   object \n",
      " 44  1st Flr SF       2925 non-null   int64  \n",
      " 45  2nd Flr SF       2925 non-null   int64  \n",
      " 46  Low Qual Fin SF  2925 non-null   int64  \n",
      " 47  Gr Liv Area      2925 non-null   int64  \n",
      " 48  Bsmt Full Bath   2923 non-null   float64\n",
      " 49  Bsmt Half Bath   2923 non-null   float64\n",
      " 50  Full Bath        2925 non-null   int64  \n",
      " 51  Half Bath        2925 non-null   int64  \n",
      " 52  Bedroom AbvGr    2925 non-null   int64  \n",
      " 53  Kitchen AbvGr    2925 non-null   int64  \n",
      " 54  Kitchen Qual     2925 non-null   object \n",
      " 55  TotRms AbvGrd    2925 non-null   int64  \n",
      " 56  Functional       2925 non-null   object \n",
      " 57  Fireplaces       2925 non-null   int64  \n",
      " 58  Fireplace Qu     1503 non-null   object \n",
      " 59  Garage Type      2768 non-null   object \n",
      " 60  Garage Yr Blt    2766 non-null   float64\n",
      " 61  Garage Finish    2766 non-null   object \n",
      " 62  Garage Cars      2924 non-null   float64\n",
      " 63  Garage Area      2925 non-null   float64\n",
      " 64  Garage Qual      2766 non-null   object \n",
      " 65  Garage Cond      2766 non-null   object \n",
      " 66  Paved Drive      2925 non-null   object \n",
      " 67  Wood Deck SF     2925 non-null   int64  \n",
      " 68  Open Porch SF    2925 non-null   int64  \n",
      " 69  Enclosed Porch   2925 non-null   int64  \n",
      " 70  3Ssn Porch       2925 non-null   int64  \n",
      " 71  Screen Porch     2925 non-null   int64  \n",
      " 72  Pool Area        2925 non-null   int64  \n",
      " 73  Pool QC          11 non-null     object \n",
      " 74  Fence            571 non-null    object \n",
      " 75  Misc Feature     105 non-null    object \n",
      " 76  Misc Val         2925 non-null   int64  \n",
      " 77  Mo Sold          2925 non-null   int64  \n",
      " 78  Yr Sold          2925 non-null   int64  \n",
      " 79  Sale Type        2925 non-null   object \n",
      " 80  Sale Condition   2925 non-null   object \n",
      " 81  SalePrice        2925 non-null   int64  \n",
      "dtypes: float64(11), int64(28), object(43)\n",
      "memory usage: 1.9+ MB\n"
     ]
    }
   ],
   "source": [
    "df_house = pd.read_csv('../GBIP/data/Ames_Housing_Data.tsv', delimiter='\\t')\n",
    "df_house = df_house.loc[df_house['Gr Liv Area']<=4000,:]\n",
    "df_house['Garage Area'].fillna(0, inplace=True)\n",
    "df_house.info()"
   ]
  },
  {
   "cell_type": "code",
   "execution_count": 21,
   "id": "2d13a985-f0ea-4298-9568-c8180f1f1188",
   "metadata": {},
   "outputs": [],
   "source": [
    "#df_house.columns = [x.replace(' ','_') for x in df_house.columns]"
   ]
  },
  {
   "cell_type": "code",
   "execution_count": 22,
   "id": "7bcc79f0-aac8-40a2-90ae-ec073e938b86",
   "metadata": {},
   "outputs": [
    {
     "data": {
      "text/html": [
       "<div>\n",
       "<style scoped>\n",
       "    .dataframe tbody tr th:only-of-type {\n",
       "        vertical-align: middle;\n",
       "    }\n",
       "\n",
       "    .dataframe tbody tr th {\n",
       "        vertical-align: top;\n",
       "    }\n",
       "\n",
       "    .dataframe thead th {\n",
       "        text-align: right;\n",
       "    }\n",
       "</style>\n",
       "<table border=\"1\" class=\"dataframe\">\n",
       "  <thead>\n",
       "    <tr style=\"text-align: right;\">\n",
       "      <th></th>\n",
       "      <th>Order</th>\n",
       "      <th>PID</th>\n",
       "      <th>MS SubClass</th>\n",
       "      <th>MS Zoning</th>\n",
       "      <th>Lot Frontage</th>\n",
       "      <th>Lot Area</th>\n",
       "      <th>Street</th>\n",
       "      <th>Alley</th>\n",
       "      <th>Lot Shape</th>\n",
       "      <th>Land Contour</th>\n",
       "      <th>...</th>\n",
       "      <th>Pool Area</th>\n",
       "      <th>Pool QC</th>\n",
       "      <th>Fence</th>\n",
       "      <th>Misc Feature</th>\n",
       "      <th>Misc Val</th>\n",
       "      <th>Mo Sold</th>\n",
       "      <th>Yr Sold</th>\n",
       "      <th>Sale Type</th>\n",
       "      <th>Sale Condition</th>\n",
       "      <th>SalePrice</th>\n",
       "    </tr>\n",
       "  </thead>\n",
       "  <tbody>\n",
       "    <tr>\n",
       "      <th>1500</th>\n",
       "      <td>1501</td>\n",
       "      <td>908201100</td>\n",
       "      <td>90</td>\n",
       "      <td>RL</td>\n",
       "      <td>65.0</td>\n",
       "      <td>6040</td>\n",
       "      <td>Pave</td>\n",
       "      <td>NaN</td>\n",
       "      <td>Reg</td>\n",
       "      <td>Lvl</td>\n",
       "      <td>...</td>\n",
       "      <td>0</td>\n",
       "      <td>NaN</td>\n",
       "      <td>NaN</td>\n",
       "      <td>NaN</td>\n",
       "      <td>0</td>\n",
       "      <td>6</td>\n",
       "      <td>2008</td>\n",
       "      <td>WD</td>\n",
       "      <td>AdjLand</td>\n",
       "      <td>82000</td>\n",
       "    </tr>\n",
       "    <tr>\n",
       "      <th>1648</th>\n",
       "      <td>1649</td>\n",
       "      <td>527325090</td>\n",
       "      <td>60</td>\n",
       "      <td>RL</td>\n",
       "      <td>61.0</td>\n",
       "      <td>11339</td>\n",
       "      <td>Pave</td>\n",
       "      <td>NaN</td>\n",
       "      <td>IR1</td>\n",
       "      <td>Lvl</td>\n",
       "      <td>...</td>\n",
       "      <td>0</td>\n",
       "      <td>NaN</td>\n",
       "      <td>NaN</td>\n",
       "      <td>NaN</td>\n",
       "      <td>0</td>\n",
       "      <td>3</td>\n",
       "      <td>2007</td>\n",
       "      <td>WD</td>\n",
       "      <td>Normal</td>\n",
       "      <td>192000</td>\n",
       "    </tr>\n",
       "    <tr>\n",
       "      <th>1732</th>\n",
       "      <td>1733</td>\n",
       "      <td>528221040</td>\n",
       "      <td>60</td>\n",
       "      <td>RL</td>\n",
       "      <td>63.0</td>\n",
       "      <td>9729</td>\n",
       "      <td>Pave</td>\n",
       "      <td>NaN</td>\n",
       "      <td>IR1</td>\n",
       "      <td>Lvl</td>\n",
       "      <td>...</td>\n",
       "      <td>0</td>\n",
       "      <td>NaN</td>\n",
       "      <td>NaN</td>\n",
       "      <td>NaN</td>\n",
       "      <td>0</td>\n",
       "      <td>6</td>\n",
       "      <td>2007</td>\n",
       "      <td>New</td>\n",
       "      <td>Partial</td>\n",
       "      <td>198444</td>\n",
       "    </tr>\n",
       "    <tr>\n",
       "      <th>2527</th>\n",
       "      <td>2528</td>\n",
       "      <td>534128210</td>\n",
       "      <td>60</td>\n",
       "      <td>RL</td>\n",
       "      <td>NaN</td>\n",
       "      <td>11029</td>\n",
       "      <td>Pave</td>\n",
       "      <td>NaN</td>\n",
       "      <td>IR1</td>\n",
       "      <td>Lvl</td>\n",
       "      <td>...</td>\n",
       "      <td>0</td>\n",
       "      <td>NaN</td>\n",
       "      <td>NaN</td>\n",
       "      <td>NaN</td>\n",
       "      <td>0</td>\n",
       "      <td>8</td>\n",
       "      <td>2006</td>\n",
       "      <td>WD</td>\n",
       "      <td>Normal</td>\n",
       "      <td>250000</td>\n",
       "    </tr>\n",
       "    <tr>\n",
       "      <th>1180</th>\n",
       "      <td>1181</td>\n",
       "      <td>533250160</td>\n",
       "      <td>120</td>\n",
       "      <td>RL</td>\n",
       "      <td>32.0</td>\n",
       "      <td>10846</td>\n",
       "      <td>Pave</td>\n",
       "      <td>NaN</td>\n",
       "      <td>IR1</td>\n",
       "      <td>Lvl</td>\n",
       "      <td>...</td>\n",
       "      <td>0</td>\n",
       "      <td>NaN</td>\n",
       "      <td>NaN</td>\n",
       "      <td>NaN</td>\n",
       "      <td>0</td>\n",
       "      <td>5</td>\n",
       "      <td>2008</td>\n",
       "      <td>Con</td>\n",
       "      <td>Normal</td>\n",
       "      <td>324000</td>\n",
       "    </tr>\n",
       "  </tbody>\n",
       "</table>\n",
       "<p>5 rows × 82 columns</p>\n",
       "</div>"
      ],
      "text/plain": [
       "      Order        PID  MS SubClass MS Zoning  Lot Frontage  Lot Area Street  \\\n",
       "1500   1501  908201100           90        RL          65.0      6040   Pave   \n",
       "1648   1649  527325090           60        RL          61.0     11339   Pave   \n",
       "1732   1733  528221040           60        RL          63.0      9729   Pave   \n",
       "2527   2528  534128210           60        RL           NaN     11029   Pave   \n",
       "1180   1181  533250160          120        RL          32.0     10846   Pave   \n",
       "\n",
       "     Alley Lot Shape Land Contour  ... Pool Area Pool QC Fence Misc Feature  \\\n",
       "1500   NaN       Reg          Lvl  ...         0     NaN   NaN          NaN   \n",
       "1648   NaN       IR1          Lvl  ...         0     NaN   NaN          NaN   \n",
       "1732   NaN       IR1          Lvl  ...         0     NaN   NaN          NaN   \n",
       "2527   NaN       IR1          Lvl  ...         0     NaN   NaN          NaN   \n",
       "1180   NaN       IR1          Lvl  ...         0     NaN   NaN          NaN   \n",
       "\n",
       "     Misc Val Mo Sold Yr Sold Sale Type  Sale Condition  SalePrice  \n",
       "1500        0       6    2008       WD          AdjLand      82000  \n",
       "1648        0       3    2007       WD           Normal     192000  \n",
       "1732        0       6    2007       New         Partial     198444  \n",
       "2527        0       8    2006       WD           Normal     250000  \n",
       "1180        0       5    2008       Con          Normal     324000  \n",
       "\n",
       "[5 rows x 82 columns]"
      ]
     },
     "execution_count": 22,
     "metadata": {},
     "output_type": "execute_result"
    }
   ],
   "source": [
    "df_house.sample(5)"
   ]
  },
  {
   "cell_type": "code",
   "execution_count": null,
   "id": "dc35dd84-5868-4499-b230-b40503ab4b09",
   "metadata": {},
   "outputs": [],
   "source": []
  },
  {
   "cell_type": "code",
   "execution_count": 23,
   "id": "d444f3d9-9484-4463-9ef6-c9d1005439b0",
   "metadata": {},
   "outputs": [],
   "source": [
    "feat = ['Lot Area','Overall Qual',\n",
    "       'Overall Cond', 'Year Built', 'Year Remod/Add', 'Gr Liv Area', \n",
    "        'Full Bath', 'Half Bath', 'Bedroom AbvGr',\n",
    "         'Garage Area', 'Fireplaces']"
   ]
  },
  {
   "cell_type": "code",
   "execution_count": null,
   "id": "6caa5d46-d8cd-453d-9842-8282367cf051",
   "metadata": {},
   "outputs": [],
   "source": []
  },
  {
   "cell_type": "code",
   "execution_count": 24,
   "id": "e43aec4c-5694-4fa5-8d25-ba53d7a1fffd",
   "metadata": {},
   "outputs": [],
   "source": [
    "X = df_house.loc[:,feat]  # everything except Sale Price\n",
    "y = df_house.SalePrice.to_numpy()"
   ]
  },
  {
   "cell_type": "code",
   "execution_count": 25,
   "id": "e568ce05-5cdd-4889-b3fa-7d9de9d81236",
   "metadata": {},
   "outputs": [],
   "source": [
    "X_train, X_test, y_train, y_test = train_test_split(X,y,test_size = 400, random_state=0)"
   ]
  },
  {
   "cell_type": "code",
   "execution_count": null,
   "id": "00d1fe41-54fb-48ac-b186-22d5ed0fe4d8",
   "metadata": {},
   "outputs": [],
   "source": []
  },
  {
   "cell_type": "code",
   "execution_count": null,
   "id": "cadea701-4d40-4b13-8a0e-e7de9f53e8ba",
   "metadata": {},
   "outputs": [],
   "source": []
  },
  {
   "cell_type": "code",
   "execution_count": 26,
   "id": "fd688634-5e0c-45a1-9994-035c4e179733",
   "metadata": {
    "scrolled": true,
    "tags": []
   },
   "outputs": [
    {
     "name": "stdout",
     "output_type": "stream",
     "text": [
      "i=0, eval_set_loss = 12.596415340784807\n",
      "i=10, eval_set_loss = 12.21654164782355\n",
      "i=20, eval_set_loss = 11.974105349135074\n",
      "i=30, eval_set_loss = 11.777125873334832\n",
      "i=40, eval_set_loss = 11.641826123336273\n",
      "i=50, eval_set_loss = 11.56526920795545\n",
      "i=60, eval_set_loss = 11.513083196710976\n",
      "i=70, eval_set_loss = 11.477044005645416\n",
      "i=80, eval_set_loss = 11.446305459793656\n",
      "i=90, eval_set_loss = 11.42804968569631\n",
      "i=100, eval_set_loss = 11.416041003590319\n",
      "i=110, eval_set_loss = 11.403251854205847\n",
      "i=120, eval_set_loss = 11.392460516507713\n",
      "i=130, eval_set_loss = 11.384720767888059\n",
      "i=140, eval_set_loss = 11.379725938861533\n",
      "i=150, eval_set_loss = 11.378535096934277\n",
      "i=160, eval_set_loss = 11.373946101817076\n",
      "i=170, eval_set_loss = 11.371606843104878\n",
      "i=180, eval_set_loss = 11.370184003777753\n",
      "i=190, eval_set_loss = 11.367387246002272\n",
      "i=200, eval_set_loss = 11.369300939099084\n",
      "i=210, eval_set_loss = 11.37217959632399\n",
      "i=220, eval_set_loss = 11.374102241306046\n",
      "i=230, eval_set_loss = 11.374262572417667\n",
      "i=240, eval_set_loss = 11.376236995932764\n",
      "Stopping early: low pt was 5 steps ago\n"
     ]
    }
   ],
   "source": [
    "cr3 = stb.Coarsage(num_trees=2000, learning_rate=.03, max_depth=8, num_coarse_bins=20, \n",
    "                   binpt_method='fixed-rss', binpt_vec = np.linspace(0,500000,251))\n",
    "cr3.fit(X_train, y_train, eval_set=(X_test, y_test), early_stop_past_steps = 5)"
   ]
  },
  {
   "cell_type": "code",
   "execution_count": null,
   "id": "a0679190-601a-47a1-bb15-5539d3eb7b8b",
   "metadata": {},
   "outputs": [],
   "source": []
  },
  {
   "cell_type": "code",
   "execution_count": 27,
   "id": "fa7eda5e-2955-42b5-af23-8d23953f6157",
   "metadata": {},
   "outputs": [
    {
     "data": {
      "text/plain": [
       "11.367387246002272"
      ]
     },
     "execution_count": 27,
     "metadata": {},
     "output_type": "execute_result"
    }
   ],
   "source": [
    "cr3_preds = cr3.predict_distributions(X_test)\n",
    "cr3_preds.log_loss(y_test)"
   ]
  },
  {
   "cell_type": "code",
   "execution_count": 28,
   "id": "e5911fa7-3b88-4af2-9f67-9f299580c154",
   "metadata": {
    "tags": []
   },
   "outputs": [
    {
     "data": {
      "text/plain": [
       "<matplotlib.collections.LineCollection at 0x13af37bb0>"
      ]
     },
     "execution_count": 28,
     "metadata": {},
     "output_type": "execute_result"
    },
    {
     "data": {
      "image/png": "[encoded data removed]",
      "text/plain": [
       "<Figure size 432x288 with 1 Axes>"
      ]
     },
     "metadata": {
      "needs_background": "light"
     },
     "output_type": "display_data"
    }
   ],
   "source": [
    "i=0\n",
    "cr3_preds[i].plot_density()\n",
    "plt.vlines(x=y_test[i], ymin=0,ymax=.00002, color='k', linestyle='--')"
   ]
  },
  {
   "cell_type": "code",
   "execution_count": null,
   "id": "e40897ff-96fc-4ddc-b5d0-fc8566282937",
   "metadata": {},
   "outputs": [],
   "source": []
  },
  {
   "cell_type": "code",
   "execution_count": 29,
   "id": "52328cdc-d4fb-4771-8b6a-ecb2729db4ad",
   "metadata": {
    "tags": []
   },
   "outputs": [
    {
     "data": {
      "image/png": "[encoded data removed]",
      "text/plain": [
       "<Figure size 1080x1080 with 6 Axes>"
      ]
     },
     "metadata": {
      "needs_background": "light"
     },
     "output_type": "display_data"
    }
   ],
   "source": [
    "plt.figure(figsize=(15,15))\n",
    "for i in range(1,7):\n",
    "    plt.subplot(3,2,i)\n",
    "    cr3_preds[i].plot_density()\n",
    "    plt.vlines(x=y_test[i], ymin=0,ymax=.00002, color='k', linestyle='--')"
   ]
  },
  {
   "cell_type": "code",
   "execution_count": null,
   "id": "87a283b7-b4e8-49ca-b5fb-49b6c1831520",
   "metadata": {
    "tags": []
   },
   "outputs": [],
   "source": []
  },
  {
   "cell_type": "code",
   "execution_count": null,
   "id": "d0ca5e4f-3dbd-45c3-870c-b0bbb1598154",
   "metadata": {},
   "outputs": [],
   "source": []
  }
 ],
 "metadata": {
  "kernelspec": {
   "display_name": "Python 3 (ipykernel)",
   "language": "python",
   "name": "python3"
  },
  "language_info": {
   "codemirror_mode": {
    "name": "ipython",
    "version": 3
   },
   "file_extension": ".py",
   "mimetype": "text/x-python",
   "name": "python",
   "nbconvert_exporter": "python",
   "pygments_lexer": "ipython3",
   "version": "3.9.13"
  }
 },
 "nbformat": 4,
 "nbformat_minor": 5
}
